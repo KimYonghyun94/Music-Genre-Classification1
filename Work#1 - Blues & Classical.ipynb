{
 "cells": [
  {
   "cell_type": "markdown",
   "metadata": {},
   "source": [
    "## BLUES VE KLASİK MÜZİK TÜRLERİ İÇİN BINARY CLASSIFICATION UYGULANMASI"
   ]
  },
  {
   "cell_type": "markdown",
   "metadata": {},
   "source": [
    "* Öncelikle kullanılacak kütüphaneleri projemize ekleyelim."
   ]
  },
  {
   "cell_type": "code",
   "execution_count": 1,
   "metadata": {
    "collapsed": false
   },
   "outputs": [],
   "source": [
    "%matplotlib inline\n",
    "import itertools\n",
    "import numpy, scipy, matplotlib.pyplot as plt, pandas, librosa,sklearn\n",
    "\n",
    "from sklearn.neighbors import KNeighborsClassifier\n",
    "from sklearn.ensemble import RandomForestClassifier\n",
    "from sklearn.neural_network import MLPClassifier\n",
    "from sklearn.svm import SVC"
   ]
  },
  {
   "cell_type": "markdown",
   "metadata": {},
   "source": [
    "* Daha önceden oluşturduğumuz veri setinden sadece metal ve klasik müzikler için olan veriyi alacak şekilde kodumuzu yazalım.\n",
    "* Ayrıca burada sadece ilk 9 feature ile bir çalışma gerçekleştireceğiz.\n",
    "* Buradaki amaç ikinci çalışm ile birlikte MFCC öz niteliklerinin başarı oranına etkisini incelemektir."
   ]
  },
  {
   "cell_type": "code",
   "execution_count": 18,
   "metadata": {
    "collapsed": false
   },
   "outputs": [
    {
     "name": "stdout",
     "output_type": "stream",
     "text": [
      "       stdZCR  meanSpecCentroid  stdSpecCentroid  meanSpecContrast  \\\n",
      "0   -0.784343         -0.381408        -0.691147         -0.187280   \n",
      "1   -0.726759         -0.559681        -0.463433         -0.139501   \n",
      "2   -0.556617         -0.500726        -0.520669         -0.352145   \n",
      "3   -0.920130         -0.872967        -0.743929         -0.635685   \n",
      "4   -0.400993         -0.236112        -0.243814         -0.310327   \n",
      "5   -0.901320         -0.711479        -0.733247         -0.578599   \n",
      "6   -0.667086         -0.497414        -0.341626         -0.523793   \n",
      "7   -0.886928         -0.552424        -0.731196         -0.357423   \n",
      "8   -0.688393         -0.386585        -0.516244         -0.156668   \n",
      "9   -0.676589         -0.302418        -0.461719         -0.130890   \n",
      "10  -0.916381         -0.522665        -0.735049         -0.561352   \n",
      "11  -0.713491         -0.603437        -0.367089         -0.342741   \n",
      "12  -0.693245         -0.541463        -0.596793         -0.393664   \n",
      "13  -0.746005         -0.638606        -0.658281         -0.270830   \n",
      "14  -0.933915         -0.810323        -0.900476         -0.491937   \n",
      "15  -0.520769         -0.505651        -0.562262         -0.269318   \n",
      "16  -0.800721         -0.608769        -0.742635         -0.330752   \n",
      "17  -0.806914         -0.707651        -0.585315         -0.537103   \n",
      "18  -0.467976         -0.459296        -0.522783         -0.131407   \n",
      "19  -0.655882         -0.791416        -0.611380         -0.573188   \n",
      "20  -0.827410         -0.577082        -0.764767         -0.254901   \n",
      "21  -0.597599         -0.730919        -0.514997         -0.497192   \n",
      "22  -0.890003         -0.917420        -0.759815         -0.602327   \n",
      "23  -0.932464         -0.801194        -0.835755         -0.575322   \n",
      "24  -0.707753         -0.634898        -0.684622         -0.629602   \n",
      "25  -0.670163         -0.728896        -0.655525         -0.595783   \n",
      "26  -0.742532         -0.736973        -0.651915         -0.434427   \n",
      "27  -0.873698         -0.671264        -0.712611         -0.526526   \n",
      "28  -0.731558         -0.680307        -0.788408         -0.721926   \n",
      "29  -0.286969         -0.399008        -0.095040          0.006968   \n",
      "..        ...               ...              ...               ...   \n",
      "170 -0.809191         -0.680582        -0.765490         -0.415476   \n",
      "171 -0.879761         -0.575669        -0.845747         -0.509159   \n",
      "172 -0.915867         -0.667684        -0.810773         -0.425335   \n",
      "173 -0.879536         -0.659637        -0.849653         -0.592102   \n",
      "174 -0.799646         -0.598736        -0.759397         -0.470702   \n",
      "175 -0.840133         -0.562759        -0.869347         -0.444039   \n",
      "176 -0.893427         -0.620933        -0.794212         -0.504583   \n",
      "177 -0.977601         -0.859366        -0.853202         -0.794145   \n",
      "178 -0.970750         -0.955194        -0.996764         -0.903327   \n",
      "179 -0.918832         -0.920978        -0.924250         -0.989464   \n",
      "180 -0.939930         -0.884955        -0.885314         -0.749418   \n",
      "181 -0.898051         -0.718369        -0.934273         -0.547933   \n",
      "182 -0.895502         -0.562103        -0.909060         -0.541035   \n",
      "183 -0.975230         -0.921699        -0.985985         -0.969157   \n",
      "184 -0.883665         -0.814380        -0.882630         -0.821149   \n",
      "185 -0.798123         -0.487576        -0.682028         -0.484067   \n",
      "186 -0.863646         -0.786701        -0.860202         -0.764010   \n",
      "187 -0.967992         -0.917897        -0.953124         -0.894702   \n",
      "188 -0.954308         -0.745589        -0.917284         -0.625047   \n",
      "189 -0.678500         -0.248467        -0.658716         -0.264775   \n",
      "190 -0.591094         -0.118986        -0.634003         -0.185696   \n",
      "191 -0.860372         -0.261970        -0.890927         -0.258021   \n",
      "192 -0.848547         -0.510020        -0.856861         -0.422666   \n",
      "193 -0.798736         -0.499843        -0.839002         -0.365311   \n",
      "194 -0.800297         -0.546666        -0.821351         -0.441438   \n",
      "195 -0.658949         -0.433762        -0.723872         -0.356686   \n",
      "196 -0.646144         -0.307042        -0.719421         -0.306565   \n",
      "197 -0.681647         -0.464482        -0.693907         -0.399802   \n",
      "198 -0.698226         -0.484560        -0.696760         -0.275714   \n",
      "199 -0.874399         -0.548503        -0.841229         -0.275049   \n",
      "\n",
      "     stdSpecContrast  meanSpecBandwidth  stdSpecBandwidth  meanSpecRollof  \\\n",
      "0          -0.572264          -0.187280         -0.572264       -0.236668   \n",
      "1          -0.414690          -0.139501         -0.414690       -0.333817   \n",
      "2          -0.704373          -0.352145         -0.704373       -0.413241   \n",
      "3          -0.596014          -0.635685         -0.596014       -0.772659   \n",
      "4          -0.532099          -0.310327         -0.532099       -0.198146   \n",
      "5          -0.542007          -0.578599         -0.542007       -0.625424   \n",
      "6          -0.392305          -0.523793         -0.392305       -0.393410   \n",
      "7          -0.687419          -0.357423         -0.687419       -0.421731   \n",
      "8          -0.516733          -0.156668         -0.516733       -0.219502   \n",
      "9          -0.533250          -0.130890         -0.533250       -0.121163   \n",
      "10         -0.545994          -0.561352         -0.545994       -0.482824   \n",
      "11         -0.308966          -0.342741         -0.308966       -0.461208   \n",
      "12         -0.730813          -0.393664         -0.730813       -0.427061   \n",
      "13         -0.614823          -0.270830         -0.614823       -0.511121   \n",
      "14         -0.731178          -0.491937         -0.731178       -0.729241   \n",
      "15         -0.662871          -0.269318         -0.662871       -0.383792   \n",
      "16         -0.559645          -0.330752         -0.559645       -0.489282   \n",
      "17         -0.607780          -0.537103         -0.607780       -0.577283   \n",
      "18         -0.550391          -0.131407         -0.550391       -0.287015   \n",
      "19         -0.781164          -0.573188         -0.781164       -0.734979   \n",
      "20         -0.621917          -0.254901         -0.621917       -0.424508   \n",
      "21         -0.683504          -0.497192         -0.683504       -0.676861   \n",
      "22         -0.687701          -0.602327         -0.687701       -0.871010   \n",
      "23         -0.734832          -0.575322         -0.734832       -0.660761   \n",
      "24         -0.827861          -0.629602         -0.827861       -0.533022   \n",
      "25         -0.806197          -0.595783         -0.806197       -0.627754   \n",
      "26         -0.522762          -0.434427         -0.522762       -0.583468   \n",
      "27         -0.794173          -0.526526         -0.794173       -0.502197   \n",
      "28         -0.800015          -0.721926         -0.800015       -0.634422   \n",
      "29         -0.438088           0.006968         -0.438088       -0.186309   \n",
      "..               ...                ...               ...             ...   \n",
      "170        -0.588259          -0.415476         -0.588259       -0.622660   \n",
      "171        -0.721003          -0.509159         -0.721003       -0.540682   \n",
      "172        -0.654300          -0.425335         -0.654300       -0.571321   \n",
      "173        -0.727740          -0.592102         -0.727740       -0.633294   \n",
      "174        -0.721285          -0.470702         -0.721285       -0.549569   \n",
      "175        -0.801011          -0.444039         -0.801011       -0.476962   \n",
      "176        -0.633936          -0.504583         -0.633936       -0.546569   \n",
      "177        -0.543214          -0.794145         -0.543214       -0.846952   \n",
      "178        -0.884051          -0.903327         -0.884051       -0.918035   \n",
      "179        -0.917802          -0.989464         -0.917802       -0.888660   \n",
      "180        -0.874529          -0.749418         -0.874529       -0.784843   \n",
      "181        -0.887270          -0.547933         -0.887270       -0.682426   \n",
      "182        -0.813184          -0.541035         -0.813184       -0.524098   \n",
      "183        -0.924498          -0.969157         -0.924498       -0.878855   \n",
      "184        -0.788946          -0.821149         -0.788946       -0.776848   \n",
      "185        -0.585345          -0.484067         -0.585345       -0.490236   \n",
      "186        -0.769686          -0.764010         -0.769686       -0.735364   \n",
      "187        -0.858378          -0.894702         -0.858378       -0.881458   \n",
      "188        -0.837603          -0.625047         -0.837603       -0.685587   \n",
      "189        -0.794529          -0.264775         -0.794529       -0.202843   \n",
      "190        -0.712015          -0.185696         -0.712015       -0.074597   \n",
      "191        -0.871492          -0.258021         -0.871492       -0.206772   \n",
      "192        -0.821746          -0.422666         -0.821746       -0.418707   \n",
      "193        -0.731197          -0.365311         -0.731197       -0.477457   \n",
      "194        -0.880488          -0.441438         -0.880488       -0.449979   \n",
      "195        -0.777884          -0.356686         -0.777884       -0.357453   \n",
      "196        -0.837630          -0.306565         -0.837630       -0.262622   \n",
      "197        -0.749196          -0.399802         -0.749196       -0.441749   \n",
      "198        -0.768265          -0.275714         -0.768265       -0.337349   \n",
      "199        -0.827990          -0.275049         -0.827990       -0.366600   \n",
      "\n",
      "     stdSpecRollof Genre  \n",
      "0        -0.455356     B  \n",
      "1         0.018836     B  \n",
      "2        -0.486896     B  \n",
      "3        -0.550906     B  \n",
      "4        -0.129946     B  \n",
      "5        -0.418621     B  \n",
      "6        -0.208222     B  \n",
      "7        -0.541015     B  \n",
      "8        -0.285884     B  \n",
      "9        -0.328090     B  \n",
      "10       -0.546017     B  \n",
      "11       -0.009043     B  \n",
      "12       -0.489684     B  \n",
      "13       -0.374130     B  \n",
      "14       -0.692979     B  \n",
      "15       -0.643020     B  \n",
      "16       -0.465413     B  \n",
      "17       -0.403780     B  \n",
      "18       -0.341606     B  \n",
      "19       -0.492952     B  \n",
      "20       -0.503423     B  \n",
      "21       -0.345820     B  \n",
      "22       -0.530239     B  \n",
      "23       -0.614514     B  \n",
      "24       -0.580871     B  \n",
      "25       -0.532609     B  \n",
      "26       -0.367250     B  \n",
      "27       -0.625302     B  \n",
      "28       -0.797295     B  \n",
      "29        0.282600     B  \n",
      "..             ...   ...  \n",
      "170      -0.661006    Cl  \n",
      "171      -0.763616    Cl  \n",
      "172      -0.721541    Cl  \n",
      "173      -0.809439    Cl  \n",
      "174      -0.717165    Cl  \n",
      "175      -0.809184    Cl  \n",
      "176      -0.702167    Cl  \n",
      "177      -0.665285    Cl  \n",
      "178      -0.954672    Cl  \n",
      "179      -0.876917    Cl  \n",
      "180      -0.793989    Cl  \n",
      "181      -0.888537    Cl  \n",
      "182      -0.826298    Cl  \n",
      "183      -0.959967    Cl  \n",
      "184      -0.830487    Cl  \n",
      "185      -0.618980    Cl  \n",
      "186      -0.807521    Cl  \n",
      "187      -0.893372    Cl  \n",
      "188      -0.861462    Cl  \n",
      "189      -0.617155    Cl  \n",
      "190      -0.531143    Cl  \n",
      "191      -0.806059    Cl  \n",
      "192      -0.823599    Cl  \n",
      "193      -0.704221    Cl  \n",
      "194      -0.808319    Cl  \n",
      "195      -0.723814    Cl  \n",
      "196      -0.685531    Cl  \n",
      "197      -0.636412    Cl  \n",
      "198      -0.572056    Cl  \n",
      "199      -0.683683    Cl  \n",
      "\n",
      "[200 rows x 10 columns]\n"
     ]
    }
   ],
   "source": [
    "data_set=pandas.read_csv('data_set.csv',index_col=False,usecols=(1,2,3,4,5,6,7,8,9,36))\n",
    "data_set=data_set[:200]\n",
    "GENRES=[\"Blues\",\"Classical\"]\n",
    "print(data_set)\n",
    "\n",
    "number_of_rows,number_of_cols = data_set.shape"
   ]
  },
  {
   "cell_type": "markdown",
   "metadata": {},
   "source": [
    "* Veri setimizi iki müzik türü için de aynı sayıda örnek içerecek şekilde %70 öğrenme, %30 test olarak ayıralım.\n",
    "* Ayırdığımız iki veri seti için de öz niteliklerin ve sınıf sütunun olduğu iki ayrı dizi oluşturalım."
   ]
  },
  {
   "cell_type": "code",
   "execution_count": 11,
   "metadata": {
    "collapsed": false
   },
   "outputs": [
    {
     "name": "stdout",
     "output_type": "stream",
     "text": [
      "Training data size: (140, 10)\n",
      "Test data size: (60, 10)\n"
     ]
    }
   ],
   "source": [
    "from sklearn.model_selection import train_test_split\n",
    "\n",
    "data_set_values=numpy.array(data_set)\n",
    "\n",
    "train, test = train_test_split(data_set_values, test_size = 0.3,random_state=1,\n",
    "                              stratify=data_set_values[:,number_of_cols-1])\n",
    "\n",
    "train_x=train[:,:number_of_cols-1]\n",
    "train_y=train[:,number_of_cols-1]\n",
    "\n",
    "test_x=test[:,:number_of_cols-1]\n",
    "test_y=test[:,number_of_cols-1]\n",
    "\n",
    "print(\"Training data size: {}\".format(train.shape))\n",
    "print(\"Test data size: {}\".format(test.shape))\n"
   ]
  },
  {
   "cell_type": "markdown",
   "metadata": {},
   "source": [
    "* Kullanıma hazır veri setlerimizi öğrenme ve test için kullanalım.\n",
    " - **Uygulanan Algoritmalar:**\n",
    "   - K-En Yakın Komşu\n",
    "   - Rastgele Orman\n",
    "   - Destek Vektör Makinesi\n",
    "   - Yapay Sinir Ağları\n",
    "   \n",
    "** Not:** Bu çalışmada algoritmalar için herhangi bir optimizasyon işlemi yapılmamıştır."
   ]
  },
  {
   "cell_type": "markdown",
   "metadata": {},
   "source": [
    "* KNN algoritmasının uygulanması ve ortalama başarı sonucunun ekrana yazdırılması"
   ]
  },
  {
   "cell_type": "code",
   "execution_count": 12,
   "metadata": {
    "collapsed": false,
    "scrolled": true
   },
   "outputs": [
    {
     "name": "stdout",
     "output_type": "stream",
     "text": [
      "Training Score: 0.871\n",
      "Test score: 0.817\n"
     ]
    }
   ],
   "source": [
    "knn=KNeighborsClassifier()\n",
    "knn.fit(train_x,train_y)\n",
    "\n",
    "print(\"Training Score: {:.3f}\".format(knn.score(train_x,train_y)))\n",
    "print(\"Test score: {:.3f}\".format(knn.score(test_x,test_y)))"
   ]
  },
  {
   "cell_type": "markdown",
   "metadata": {},
   "source": [
    "* Random Forest algoritmasının uygulanması ve ortalama başarı sonucunun ekrana yazdırılması"
   ]
  },
  {
   "cell_type": "code",
   "execution_count": 13,
   "metadata": {
    "collapsed": false
   },
   "outputs": [
    {
     "name": "stdout",
     "output_type": "stream",
     "text": [
      "Training Score: 0.993\n",
      "Test score: 0.850\n"
     ]
    }
   ],
   "source": [
    "forest=RandomForestClassifier(random_state=1)\n",
    "forest.fit(train_x,train_y)\n",
    "print(\"Training Score: {:.3f}\".format(forest.score(train_x,train_y)))\n",
    "print(\"Test score: {:.3f}\".format(forest.score(test_x,test_y)))"
   ]
  },
  {
   "cell_type": "markdown",
   "metadata": {},
   "source": [
    "* SVM algoritmasının uygulanması ve ortalama başarı sonucunun ekrana yazdırılması"
   ]
  },
  {
   "cell_type": "code",
   "execution_count": 14,
   "metadata": {
    "collapsed": false
   },
   "outputs": [
    {
     "name": "stdout",
     "output_type": "stream",
     "text": [
      "Training Score: 0.836\n",
      "Test score: 0.817\n"
     ]
    }
   ],
   "source": [
    "svm=SVC()\n",
    "svm.fit(train_x,train_y)\n",
    "print(\"Training Score: {:.3f}\".format(svm.score(train_x,train_y)))\n",
    "print(\"Test score: {:.3f}\".format(svm.score(test_x,test_y)))"
   ]
  },
  {
   "cell_type": "markdown",
   "metadata": {},
   "source": [
    "* Neural Network algoritmasının uygulanması ve ortalama başarı sonucunun ekrana yazdırılması"
   ]
  },
  {
   "cell_type": "code",
   "execution_count": 15,
   "metadata": {
    "collapsed": false
   },
   "outputs": [
    {
     "name": "stdout",
     "output_type": "stream",
     "text": [
      "Training Score: 0.986\n",
      "Test score: 0.850\n"
     ]
    }
   ],
   "source": [
    "neural=MLPClassifier(max_iter=1000,random_state=1,hidden_layer_sizes=[40,40])\n",
    "neural.fit(train_x,train_y)\n",
    "print(\"Training Score: {:.3f}\".format(neural.score(train_x,train_y)))\n",
    "print(\"Test score: {:.3f}\".format(neural.score(test_x,test_y)))\n"
   ]
  },
  {
   "cell_type": "markdown",
   "metadata": {},
   "source": [
    "* Modellerin başarım oranını daha iyi anlamlandırabilmek ve görsellik katılması adına bir fonksiyon yazalım."
   ]
  },
  {
   "cell_type": "code",
   "execution_count": 16,
   "metadata": {
    "collapsed": true
   },
   "outputs": [],
   "source": [
    "def plot_confusion_matrix(cm, classes,\n",
    "                          title='Confusion matrix',\n",
    "                          cmap=plt.cm.Blues):\n",
    "   \n",
    "    plt.imshow(cm, interpolation='nearest', cmap=cmap)\n",
    "    plt.title(title)\n",
    "    plt.colorbar()\n",
    "    tick_marks = numpy.arange(len(classes))\n",
    "    plt.xticks(tick_marks, classes, rotation=45)\n",
    "    plt.yticks(tick_marks, classes)\n",
    "\n",
    "    thresh = cm.max() / 2.\n",
    "    for i, j in itertools.product(range(cm.shape[0]), range(cm.shape[1])):\n",
    "        plt.text(j, i, cm[i, j],\n",
    "                 horizontalalignment=\"center\",\n",
    "                 color=\"white\" if cm[i, j] > thresh else \"black\")\n",
    "\n",
    "    plt.tight_layout()\n",
    "    plt.ylabel('True label')\n",
    "    plt.xlabel('Predicted label')"
   ]
  },
  {
   "cell_type": "markdown",
   "metadata": {},
   "source": [
    "* Önce test verisindeki gerçek sınıfları daha sonra da modelimizin ürettiği sonuçları ekrana yazdıralım.\n",
    "* Sonraki adımda ise daha önceden yazdığımız fonksiyon ile bir confusion matrix oluşturalım.\n",
    "\n",
    "**Not:** Sonuçlar ve oluşturulan confusion matrix, bu çalışmadaki en iyi sonuç veren model baz alınarak elde edilmiştir."
   ]
  },
  {
   "cell_type": "code",
   "execution_count": 19,
   "metadata": {
    "collapsed": false
   },
   "outputs": [
    {
     "name": "stdout",
     "output_type": "stream",
     "text": [
      "---------------PERFORMANCE ANALYSIS FOR THE BEST MODEL FOR THIS WORK----------------\n",
      "\n",
      "Real Test dataset labels: \n",
      "['B' 'Cl' 'B' 'B' 'Cl' 'Cl' 'Cl' 'Cl' 'B' 'Cl' 'Cl' 'Cl' 'Cl' 'Cl' 'B' 'Cl'\n",
      " 'B' 'Cl' 'B' 'Cl' 'B' 'Cl' 'B' 'B' 'Cl' 'B' 'Cl' 'Cl' 'B' 'B' 'B' 'Cl'\n",
      " 'Cl' 'B' 'B' 'B' 'Cl' 'B' 'B' 'B' 'Cl' 'B' 'B' 'Cl' 'B' 'Cl' 'B' 'Cl' 'Cl'\n",
      " 'Cl' 'B' 'Cl' 'Cl' 'B' 'B' 'B' 'Cl' 'Cl' 'B' 'B']\n",
      "\n",
      "Predicted Test dataset labels: \n",
      "['B' 'Cl' 'B' 'B' 'Cl' 'Cl' 'Cl' 'Cl' 'Cl' 'B' 'Cl' 'Cl' 'Cl' 'Cl' 'B' 'Cl'\n",
      " 'B' 'Cl' 'B' 'Cl' 'B' 'Cl' 'B' 'B' 'B' 'Cl' 'Cl' 'Cl' 'B' 'B' 'B' 'Cl'\n",
      " 'Cl' 'B' 'Cl' 'B' 'Cl' 'Cl' 'B' 'Cl' 'Cl' 'B' 'B' 'B' 'B' 'Cl' 'B' 'Cl'\n",
      " 'Cl' 'Cl' 'B' 'B' 'Cl' 'B' 'B' 'B' 'Cl' 'Cl' 'B' 'B']\n"
     ]
    },
    {
     "data": {
      "image/png": "[encoded data removed]",
      "text/plain": [
       "<matplotlib.figure.Figure at 0x7f16c4d284a8>"
      ]
     },
     "metadata": {},
     "output_type": "display_data"
    }
   ],
   "source": [
    "true=test_y\n",
    "pred=forest.predict(test_x)\n",
    "\n",
    "print(\"---------------PERFORMANCE ANALYSIS FOR THE BEST MODEL FOR THIS WORK----------------\\n\")\n",
    "\n",
    "print(\"Real Test dataset labels: \\n{}\\n\".format(true))\n",
    "print(\"Predicted Test dataset labels: \\n{}\".format(pred))\n",
    "\n",
    "cnf_matrix=sklearn.metrics.confusion_matrix(test_y,pred)\n",
    "plt.figure()\n",
    "a=plot_confusion_matrix(cnf_matrix,classes=GENRES,title='Confusion matrix')"
   ]
  },
  {
   "cell_type": "code",
   "execution_count": null,
   "metadata": {
    "collapsed": true
   },
   "outputs": [],
   "source": []
  }
 ],
 "metadata": {
  "kernelspec": {
   "display_name": "Python 3",
   "language": "python",
   "name": "python3"
  },
  "language_info": {
   "codemirror_mode": {
    "name": "ipython",
    "version": 3
   },
   "file_extension": ".py",
   "mimetype": "text/x-python",
   "name": "python",
   "nbconvert_exporter": "python",
   "pygments_lexer": "ipython3",
   "version": "3.5.2"
  }
 },
 "nbformat": 4,
 "nbformat_minor": 1
}
