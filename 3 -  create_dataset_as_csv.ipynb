{
 "cells": [
  {
   "cell_type": "markdown",
   "metadata": {},
   "source": [
    "### MÜZİKLERDEN ÖZELLİK ÇIKARMA İŞLEMİ YAPILARAK VERİ SETİ OLUŞTURULMASI"
   ]
  },
  {
   "cell_type": "markdown",
   "metadata": {},
   "source": [
    "Öncelikle kullanılacak olan kütüphaneleri projemize ekleyelim."
   ]
  },
  {
   "cell_type": "code",
   "execution_count": 14,
   "metadata": {
    "collapsed": false
   },
   "outputs": [],
   "source": [
    "import numpy, pandas, librosa, sklearn"
   ]
  },
  {
   "cell_type": "markdown",
   "metadata": {},
   "source": [
    "Numpy dizilerini ekrana yazdırırken, verilerin görsel açıdan daha rahat ayırt edilebilmesi için bir sayı formatlayıcı oluşturalım. \n",
    "* Bu formatlayıcı virgülden sonraki 3 basamağı göstermektedir."
   ]
  },
  {
   "cell_type": "code",
   "execution_count": 15,
   "metadata": {
    "collapsed": false
   },
   "outputs": [],
   "source": [
    "float_formatter = lambda x: \"%.3f\" % x\n",
    "numpy.set_printoptions(formatter={'float_kind':float_formatter})"
   ]
  },
  {
   "cell_type": "markdown",
   "metadata": {},
   "source": [
    "GTZAN müzik veri setimizin bulunduğu klasörün yolunu DATASET_DIRECTORY adlı değişkene atayalım."
   ]
  },
  {
   "cell_type": "code",
   "execution_count": 16,
   "metadata": {
    "collapsed": true
   },
   "outputs": [],
   "source": [
    "DATASET_DIRECTORY = \"./genres/\"\n"
   ]
  },
  {
   "cell_type": "markdown",
   "metadata": {},
   "source": [
    "Her müzik türü için ayrılan klasör içerisindeki şarkıların dosya yollarını her müzik türü için Librosa kütüphanesinin util.find_files fonksiyonu ile alalım."
   ]
  },
  {
   "cell_type": "code",
   "execution_count": 17,
   "metadata": {
    "collapsed": false
   },
   "outputs": [],
   "source": [
    "path_blues=librosa.util.find_files(DATASET_DIRECTORY+\"blues\")\n",
    "path_classical=librosa.util.find_files(DATASET_DIRECTORY+\"classical\")\n",
    "path_country=librosa.util.find_files(DATASET_DIRECTORY+\"country\")\n",
    "path_disco=librosa.util.find_files(DATASET_DIRECTORY+\"disco\")\n",
    "path_hiphop=librosa.util.find_files(DATASET_DIRECTORY+\"hiphop\")\n",
    "path_jazz=librosa.util.find_files(DATASET_DIRECTORY+\"jazz\")\n",
    "path_metal=librosa.util.find_files(DATASET_DIRECTORY+\"metal\")\n",
    "path_pop=librosa.util.find_files(DATASET_DIRECTORY+\"pop\")\n",
    "path_reggae=librosa.util.find_files(DATASET_DIRECTORY+\"reggae\")\n",
    "path_rock=librosa.util.find_files(DATASET_DIRECTORY+\"rock\")"
   ]
  },
  {
   "cell_type": "markdown",
   "metadata": {},
   "source": [
    "Şarkı sayısı ve müzik türü sayısını ilerde kullanmak için belirleyelim."
   ]
  },
  {
   "cell_type": "code",
   "execution_count": 18,
   "metadata": {
    "collapsed": true
   },
   "outputs": [],
   "source": [
    "number_of_songs=1000\n",
    "number_of_genres=10\n"
   ]
  },
  {
   "cell_type": "markdown",
   "metadata": {},
   "source": [
    "Sınıflandırma çalışması için kullanacağımız tüm müzik türleri için yükleme işlemi yapalım.\n",
    "* Önce tüm müzik türleri için şarkıların ses-zaman örneklerini tutacak birer dizi oluşturalım.\n",
    "* Örnekleme oranımız 22050 Hz (Saniyede 22050 örnek)\n",
    "* Daha sonra önceden belirlediğimiz dosya yollarını her bir müzik türündeki tüm şarkılar için 5sn'lik parçaları örnekleyecek bir for döngüsünde kullanalım.\n",
    "* Örneklenen her şarkının örnek dizisini ait olduğu müzik türü için oluşturduğumuz dizilere atalım."
   ]
  },
  {
   "cell_type": "code",
   "execution_count": 19,
   "metadata": {
    "collapsed": false
   },
   "outputs": [
    {
     "name": "stdout",
     "output_type": "stream",
     "text": [
      "DONE !\n"
     ]
    }
   ],
   "source": [
    "sample_rate=22050\n",
    "\n",
    "blues_songs=[]\n",
    "classical_songs=[]\n",
    "country_songs=[]\n",
    "disco_songs=[]\n",
    "hiphop_songs=[]\n",
    "jazz_songs=[]\n",
    "metal_songs=[]\n",
    "pop_songs=[]\n",
    "reggae_songs=[]\n",
    "rock_songs=[]\n",
    "\n",
    "for b,cl,co,d,h,j,m,p,re,ro in zip(path_blues,path_classical,path_country,path_disco,path_hiphop,path_jazz,\n",
    "                                  path_metal,path_pop,path_reggae,path_rock):\n",
    "    x0,sr=librosa.load(b,sr=sample_rate,duration=5.0)\n",
    "    x1,sr=librosa.load(cl,sr=sample_rate,duration=5.0)\n",
    "    x2,sr=librosa.load(co,sr=sample_rate,duration=5.0)\n",
    "    x3,sr=librosa.load(d,sr=sample_rate,duration=5.0)\n",
    "    x4,sr=librosa.load(h,sr=sample_rate,duration=5.0)\n",
    "    x5,sr=librosa.load(j,sr=sample_rate,duration=5.0)\n",
    "    x6,sr=librosa.load(m,sr=sample_rate,duration=5.0)\n",
    "    x7,sr=librosa.load(p,sr=sample_rate,duration=5.0)\n",
    "    x8,sr=librosa.load(re,sr=sample_rate,duration=5.0)\n",
    "    x9,sr=librosa.load(ro,sr=sample_rate,duration=5.0)\n",
    "    blues_songs.append(x0)\n",
    "    classical_songs.append(x1)\n",
    "    country_songs.append(x2)\n",
    "    disco_songs.append(x3)\n",
    "    hiphop_songs.append(x4)\n",
    "    jazz_songs.append(x5)\n",
    "    metal_songs.append(x6)\n",
    "    pop_songs.append(x7)\n",
    "    reggae_songs.append(x8)\n",
    "    rock_songs.append(x9)\n",
    "         \n",
    "print(\"DONE !\")\n"
   ]
  },
  {
   "cell_type": "markdown",
   "metadata": {},
   "source": [
    "* Parametre olarak verilen ses örnek dizisini, yine parametre olarak verilen örnekleme oranı, frame uzunluğu ve aralık uzunluğu birlikte alarak, çeşitli dönüşümlerle öz nitelik çıkarımı yapan **extract_features** fonksiyonunu yazalım.\n",
    "* Çalışmada kullanılacak öz nitelikler:\n",
    " - Zcr (Bir şarkının, ayrılan her frame'i için hesaplanan değerlerin ortalaması ve standart sapması)\n",
    " - Spectral Centroid (Bir şarkının, ayrılan her frame'i için hesaplanan değerlerin ortalaması ve standart sapması)\n",
    " - Spectral Contrast (Bir şarkının, ayrılan her frame'i için hesaplanan değerlerin ortalaması ve standart sapması)\n",
    " - Spectral Bandwidth (Bir şarkının, ayrılan her frame'i için hesaplanan değerlerin ortalaması ve standart sapması)\n",
    " - Spectral Rollof (Bir şarkının, ayrılan her frame'i için hesaplanan değerlerin ortalaması ve standart sapması)\n",
    " - MFCC (Bir şarkının, ayrılan her frame'i için hesaplanan değerlerin 1-13 arası MFFC'leri için ortalaması ve standart sapması)"
   ]
  },
  {
   "cell_type": "code",
   "execution_count": 20,
   "metadata": {
    "collapsed": true
   },
   "outputs": [],
   "source": [
    "def extract_features(signal,sample_rate,frame_size,hop_size):\n",
    "    \n",
    "    #Timbral Texture Features\n",
    "    zero_crossing_rate=librosa.feature.zero_crossing_rate(y=signal,frame_length=frame_size,hop_length=hop_size)\n",
    "    spectral_centroid = librosa.feature.spectral_centroid(y=signal,sr=sample_rate,n_fft=frame_size,hop_length=hop_size)\n",
    "    spectral_contrast = librosa.feature.spectral_contrast(y=signal,sr=sample_rate,n_fft=frame_size,hop_length=hop_size)\n",
    "    spectral_bandwidth = librosa.feature.spectral_bandwidth(y=signal,sr=sample_rate,n_fft=frame_size,hop_length=hop_size)\n",
    "    spectral_rolloff = librosa.feature.spectral_rolloff(y=signal,sr=sample_rate,n_fft=frame_size,hop_length=hop_size)\n",
    "    mfccs=librosa.feature.mfcc(y=signal,sr=sample_rate,n_fft=frame_size,hop_length=hop_size)\n",
    "    \n",
    "    #Rhythm Content Features\n",
    "   \n",
    "    #Pitch Content Features\n",
    "    \n",
    "    return [\n",
    "        \n",
    "        numpy.mean(zero_crossing_rate),\n",
    "        numpy.std(zero_crossing_rate),\n",
    "        numpy.mean(spectral_centroid),\n",
    "        numpy.std(spectral_centroid),\n",
    "        numpy.mean(spectral_contrast),\n",
    "        numpy.std(spectral_contrast),        \n",
    "        numpy.mean(spectral_bandwidth),\n",
    "        numpy.std(spectral_bandwidth),      \n",
    "        numpy.mean(spectral_rolloff),\n",
    "        numpy.std(spectral_rolloff),\n",
    "        \n",
    "        numpy.mean(mfccs[1,:]),\n",
    "        numpy.std(mfccs[1,:]),       \n",
    "        numpy.mean(mfccs[2,:]),\n",
    "        numpy.std(mfccs[2,:]),        \n",
    "        numpy.mean(mfccs[3,:]),\n",
    "        numpy.std(mfccs[3,:]),\n",
    "        numpy.mean(mfccs[4,:]),\n",
    "        numpy.std(mfccs[4,:]),\n",
    "        numpy.mean(mfccs[5,:]),\n",
    "        numpy.std(mfccs[5,:]),\n",
    "        numpy.mean(mfccs[6,:]),\n",
    "        numpy.std(mfccs[6,:]),\n",
    "        numpy.mean(mfccs[7,:]),\n",
    "        numpy.std(mfccs[7,:]),\n",
    "        numpy.mean(mfccs[8,:]),\n",
    "        numpy.std(mfccs[8,:]),\n",
    "        numpy.mean(mfccs[9,:]),\n",
    "        numpy.std(mfccs[9,:]),\n",
    "        numpy.mean(mfccs[10,:]),\n",
    "        numpy.std(mfccs[10,:]),\n",
    "        numpy.mean(mfccs[11,:]),\n",
    "        numpy.std(mfccs[11,:]),\n",
    "        numpy.mean(mfccs[12,:]),\n",
    "        numpy.std(mfccs[12,:]),\n",
    "        numpy.mean(mfccs[13,:]),\n",
    "        numpy.std(mfccs[13,:]),\n",
    "    ]"
   ]
  },
  {
   "cell_type": "markdown",
   "metadata": {},
   "source": [
    "* Her müzik türü için sınıflandırma aşamasında kullanılacak bir hedef sınıf oluşturacak ve bu sınıflardan oluşan bir dizi döndürecek **create_label_column** fonksiyonunu yazalım."
   ]
  },
  {
   "cell_type": "code",
   "execution_count": 21,
   "metadata": {
    "collapsed": true
   },
   "outputs": [],
   "source": [
    "def create_label_column():\n",
    "    target=[]\n",
    "    for i in range(0,number_of_songs):\n",
    "        if(i<(number_of_songs/number_of_genres)):\n",
    "            target.append('B')\n",
    "        elif((number_of_songs/number_of_genres)<=i<2*(number_of_songs/number_of_genres)):\n",
    "            target.append('Cl')\n",
    "        elif(2*(number_of_songs/number_of_genres)<=i<3*(number_of_songs/number_of_genres)):\n",
    "            target.append('Co')\n",
    "        elif(3*(number_of_songs/number_of_genres)<=i<4*(number_of_songs/number_of_genres)):\n",
    "            target.append('D')\n",
    "        elif(4*(number_of_songs/number_of_genres)<=i<5*(number_of_songs/number_of_genres)):\n",
    "            target.append('H')\n",
    "        elif(5*(number_of_songs/number_of_genres)<=i<6*(number_of_songs/number_of_genres)):\n",
    "            target.append('J')\n",
    "        elif(6*(number_of_songs/number_of_genres)<=i<7*(number_of_songs/number_of_genres)):\n",
    "            target.append('M')\n",
    "        elif(7*(number_of_songs/number_of_genres)<=i<8*(number_of_songs/number_of_genres)):\n",
    "            target.append('P')\n",
    "        elif(8*(number_of_songs/number_of_genres)<=i<9*(number_of_songs/number_of_genres)):\n",
    "            target.append('Re')\n",
    "        elif(9*(number_of_songs/number_of_genres)<=i<10*(number_of_songs/number_of_genres)):\n",
    "            target.append('Ro')\n",
    "    return target"
   ]
  },
  {
   "cell_type": "markdown",
   "metadata": {},
   "source": [
    "* Sınıflandırmada kullanılacak her şarkı için daha önce yazdığımız **extract_features** fonksiyonunu kullanalım ve şarkılar için elde edilen her öz niteliği, o şarkının ait olduğu müzik türü için oluşturduğumuz bir dizide tutalım."
   ]
  },
  {
   "cell_type": "code",
   "execution_count": 22,
   "metadata": {
    "collapsed": false
   },
   "outputs": [
    {
     "name": "stdout",
     "output_type": "stream",
     "text": [
      "DONE !\n"
     ]
    }
   ],
   "source": [
    "frame_size=2048\n",
    "hop_size=512\n",
    "\n",
    "blues_features=numpy.array([extract_features(x,sample_rate,frame_size,hop_size) for x in blues_songs])\n",
    "classical_features=numpy.array([extract_features(x,sample_rate,frame_size,hop_size) for x in classical_songs])\n",
    "country_features=numpy.array([extract_features(x,sample_rate,frame_size,hop_size) for x in country_songs])\n",
    "disco_features=numpy.array([extract_features(x,sample_rate,frame_size,hop_size) for x in disco_songs])\n",
    "hiphop_features=numpy.array([extract_features(x,sample_rate,frame_size,hop_size) for x in hiphop_songs])\n",
    "jazz_features=numpy.array([extract_features(x,sample_rate,frame_size,hop_size) for x in jazz_songs])\n",
    "metal_features=numpy.array([extract_features(x,sample_rate,frame_size,hop_size) for x in metal_songs])\n",
    "pop_features=numpy.array([extract_features(x,sample_rate,frame_size,hop_size) for x in pop_songs])\n",
    "reggae_features=numpy.array([extract_features(x,sample_rate,frame_size,hop_size) for x in reggae_songs])\n",
    "rock_features=numpy.array([extract_features(x,sample_rate,frame_size,hop_size) for x in rock_songs])\n",
    "\n",
    "print(\"DONE !\")\n"
   ]
  },
  {
   "cell_type": "markdown",
   "metadata": {},
   "source": [
    "* Her müzik türü için ayrı ayrı tutulan öz nitelik dizilerini alt alta birleştirerek veri setimizin **feature_table** adlı kısmını oluşturalım."
   ]
  },
  {
   "cell_type": "code",
   "execution_count": 33,
   "metadata": {
    "collapsed": false
   },
   "outputs": [
    {
     "name": "stdout",
     "output_type": "stream",
     "text": [
      "Shape of feature table: (1000, 36)\n",
      "\n",
      "An overview of the feature table:\n",
      "\n",
      "[0.045 0.035 1437.210 608.846 19.926 8.288 2043.387 424.475 3353.647\n",
      " 1777.615 117.470 19.798 13.829 23.822 40.756 15.357 6.619 17.558 23.242\n",
      " 9.509 -7.108 18.967 25.854 9.822 -7.422 15.343 11.777 10.950 -1.512 9.456\n",
      " 10.808 7.386 -1.185 8.184 8.139 7.426]\n"
     ]
    }
   ],
   "source": [
    "feature_table = numpy.vstack((blues_features, classical_features,country_features,disco_features,hiphop_features,\n",
    "                             jazz_features,metal_features,pop_features,reggae_features,rock_features))\n",
    "\n",
    "print(\"Shape of feature table: {}\\n\".format(feature_table.shape))\n",
    "\n",
    "print(\"An overview of the feature table:\\n\")\n",
    "print(feature_table[1,:])"
   ]
  },
  {
   "cell_type": "markdown",
   "metadata": {},
   "source": [
    "* Veri setindeki öz nitelik değerleri incelendiğinde, bazı öz nitelikler arasındaki değer farkının çok olduğu gözlemlenmiştir.\n",
    "* Bu durumun sınıflandırma başarısını olumsuz etkileyeceği düşünülmüştür.\n",
    "* Scikit-learn kütüphanesinin MinMaxScaler fonksiyonu kullanılarak değerler -1 ile 1 arasında normalize edilmiştir."
   ]
  },
  {
   "cell_type": "code",
   "execution_count": 36,
   "metadata": {
    "collapsed": false
   },
   "outputs": [],
   "source": [
    "scaler = sklearn.preprocessing.MinMaxScaler(feature_range=(-1, 1))\n",
    "feature_table = scaler.fit_transform(feature_table)"
   ]
  },
  {
   "cell_type": "markdown",
   "metadata": {},
   "source": [
    "* Daha önceden yazdığımız **create_label_column** fonksiyonu kullanılarak her şarkı için müzik türü sınıfını belirleyecek **y_data** dizisi oluşturulmuştur.\n",
    "* Öz nitelikleri tanımlayacak başlıklar bir dizide tutulmuştur.\n",
    "* Daha sonra **feature_table**, **y_data** ve **Feature_Names** dizileri kullanılarak veri setinin son hali Pandas kütüphanesi yardımıyla elde edilmiştir."
   ]
  },
  {
   "cell_type": "code",
   "execution_count": 37,
   "metadata": {
    "collapsed": false,
    "scrolled": false
   },
   "outputs": [
    {
     "name": "stdout",
     "output_type": "stream",
     "text": [
      "      meanZCR    stdZCR  meanSpecCentroid  stdSpecCentroid  meanSpecContrast  \\\n",
      "0   -0.505871 -0.784343         -0.381408        -0.691147         -0.107291   \n",
      "1   -0.789556 -0.726759         -0.559681        -0.463433         -0.214652   \n",
      "2   -0.590099 -0.556617         -0.500726        -0.520669          0.110841   \n",
      "3   -0.943024 -0.920130         -0.872967        -0.743929         -0.069544   \n",
      "4   -0.205440 -0.400993         -0.236112        -0.243814          0.190382   \n",
      "5   -0.731302 -0.901320         -0.711479        -0.733247          0.049307   \n",
      "6   -0.617483 -0.667086         -0.497414        -0.341626          0.410133   \n",
      "7   -0.716647 -0.886928         -0.552424        -0.731196          0.071810   \n",
      "8   -0.610462 -0.688393         -0.386585        -0.516244          0.191406   \n",
      "9   -0.516476 -0.676589         -0.302418        -0.461719         -0.016841   \n",
      "10  -0.529272 -0.916381         -0.522665        -0.735049          0.063846   \n",
      "11  -0.799564 -0.713491         -0.603437        -0.367089         -0.167560   \n",
      "12  -0.623375 -0.693245         -0.541463        -0.596793          0.141906   \n",
      "13  -0.776411 -0.746005         -0.638606        -0.658281         -0.031029   \n",
      "14  -0.876505 -0.933915         -0.810323        -0.900476          0.074885   \n",
      "15  -0.622810 -0.520769         -0.505651        -0.562262          0.032003   \n",
      "16  -0.722539 -0.800721         -0.608769        -0.742635         -0.057845   \n",
      "17  -0.757475 -0.806914         -0.707651        -0.585315          0.158050   \n",
      "18  -0.617964 -0.467976         -0.459296        -0.522783          0.150256   \n",
      "19  -0.797041 -0.655882         -0.791416        -0.611380          0.061024   \n",
      "20  -0.714722 -0.827410         -0.577082        -0.764767         -0.195444   \n",
      "21  -0.749044 -0.597599         -0.730919        -0.514997          0.196633   \n",
      "22  -0.956351 -0.890003         -0.917420        -0.759815         -0.113427   \n",
      "23  -0.839063 -0.932464         -0.801194        -0.835755          0.034040   \n",
      "24  -0.624968 -0.707753         -0.634898        -0.684622          0.346741   \n",
      "25  -0.733078 -0.670163         -0.728896        -0.655525          0.058699   \n",
      "26  -0.840125 -0.742532         -0.736973        -0.651915         -0.123860   \n",
      "27  -0.739816 -0.873698         -0.671264        -0.712611          0.315442   \n",
      "28  -0.597882 -0.731558         -0.680307        -0.788408          0.331238   \n",
      "29  -0.680068 -0.286969         -0.399008        -0.095040          0.853541   \n",
      "..        ...       ...               ...              ...               ...   \n",
      "970 -0.036288 -0.451082          0.035996        -0.400393          0.212469   \n",
      "971 -0.484561 -0.727270         -0.254331        -0.620291         -0.169254   \n",
      "972 -0.624586 -0.631106         -0.325084        -0.347806         -0.147306   \n",
      "973 -0.350826 -0.614096         -0.165178        -0.503367         -0.145982   \n",
      "974 -0.455866 -0.710842         -0.185721        -0.517389         -0.019543   \n",
      "975 -0.553968 -0.650311         -0.296303        -0.390337         -0.133476   \n",
      "976 -0.575095 -0.577048         -0.412822        -0.339433          0.188591   \n",
      "977 -0.535546 -0.711912         -0.252813        -0.509957         -0.235491   \n",
      "978 -0.671836 -0.582799         -0.408344        -0.316383          0.136100   \n",
      "979 -0.402026 -0.733648         -0.253788        -0.585511          0.095675   \n",
      "980 -0.100749 -0.713975         -0.012080        -0.635960          0.251221   \n",
      "981  0.077016 -0.565992          0.153219        -0.555889          0.093580   \n",
      "982  0.347092 -0.576297          0.310671        -0.603307          0.041944   \n",
      "983 -0.476412 -0.760400         -0.153297        -0.565025          0.110521   \n",
      "984 -0.044205 -0.228184          0.091447        -0.225255          0.114820   \n",
      "985 -0.082012 -0.414603         -0.053647        -0.288520          0.424019   \n",
      "986 -0.050927 -0.467007         -0.043867        -0.374618         -0.016350   \n",
      "987 -0.237986 -0.722225         -0.096861        -0.583853          0.038238   \n",
      "988  0.135735 -0.670791          0.041442        -0.686002         -0.125199   \n",
      "989 -0.648004 -0.784503         -0.528188        -0.566229          0.347294   \n",
      "990 -0.227331 -0.550060          0.042270        -0.371898          0.212381   \n",
      "991  0.092119 -0.596747          0.052525        -0.525092          0.148106   \n",
      "992 -0.025401 -0.740870         -0.017308        -0.770990          0.175182   \n",
      "993 -0.358394 -0.746934         -0.274258        -0.589621          0.320208   \n",
      "994  0.047010 -0.834614          0.076618        -0.844256          0.353859   \n",
      "995 -0.466089 -0.628336         -0.178709        -0.374668          0.355912   \n",
      "996 -0.451102 -0.773748         -0.237269        -0.614994          0.214979   \n",
      "997 -0.588671 -0.837505         -0.469403        -0.748469          0.113358   \n",
      "998 -0.893450 -0.968177         -0.694637        -0.804245          0.229773   \n",
      "999 -0.644004 -0.861855         -0.597040        -0.789157          0.659681   \n",
      "\n",
      "     stdSpecContrast  meanSpecBandwidth  stdSpecBandwidth  meanSpecRollof  \\\n",
      "0           0.349902          -0.187280         -0.572264       -0.236668   \n",
      "1           0.274741          -0.139501         -0.414690       -0.333817   \n",
      "2           0.342202          -0.352145         -0.704373       -0.413241   \n",
      "3           0.043430          -0.635685         -0.596014       -0.772659   \n",
      "4           0.270769          -0.310327         -0.532099       -0.198146   \n",
      "5          -0.157888          -0.578599         -0.542007       -0.625424   \n",
      "6           0.053986          -0.523793         -0.392305       -0.393410   \n",
      "7           0.063368          -0.357423         -0.687419       -0.421731   \n",
      "8           0.557346          -0.156668         -0.516733       -0.219502   \n",
      "9           0.273545          -0.130890         -0.533250       -0.121163   \n",
      "10          0.361995          -0.561352         -0.545994       -0.482824   \n",
      "11         -0.041061          -0.342741         -0.308966       -0.461208   \n",
      "12         -0.054801          -0.393664         -0.730813       -0.427061   \n",
      "13         -0.025983          -0.270830         -0.614823       -0.511121   \n",
      "14         -0.371053          -0.491937         -0.731178       -0.729241   \n",
      "15         -0.110497          -0.269318         -0.662871       -0.383792   \n",
      "16         -0.103716          -0.330752         -0.559645       -0.489282   \n",
      "17         -0.147123          -0.537103         -0.607780       -0.577283   \n",
      "18          0.078307          -0.131407         -0.550391       -0.287015   \n",
      "19         -0.292692          -0.573188         -0.781164       -0.734979   \n",
      "20         -0.010936          -0.254901         -0.621917       -0.424508   \n",
      "21         -0.104052          -0.497192         -0.683504       -0.676861   \n",
      "22         -0.286842          -0.602327         -0.687701       -0.871010   \n",
      "23         -0.334171          -0.575322         -0.734832       -0.660761   \n",
      "24         -0.270500          -0.629602         -0.827861       -0.533022   \n",
      "25         -0.201822          -0.595783         -0.806197       -0.627754   \n",
      "26         -0.382737          -0.434427         -0.522762       -0.583468   \n",
      "27         -0.416561          -0.526526         -0.794173       -0.502197   \n",
      "28         -0.192065          -0.721926         -0.800015       -0.634422   \n",
      "29          0.465660           0.006968         -0.438088       -0.186309   \n",
      "..               ...                ...               ...             ...   \n",
      "970         0.245638          -0.016462         -0.634196        0.093325   \n",
      "971         0.468396           0.007331         -0.650289        0.001816   \n",
      "972         0.450733           0.020592         -0.500817       -0.084550   \n",
      "973         0.638225           0.039761         -0.695561        0.053538   \n",
      "974         0.385308          -0.000625         -0.629148        0.033472   \n",
      "975         0.464752           0.002213         -0.518636       -0.057715   \n",
      "976         0.199773          -0.172057         -0.454803       -0.247129   \n",
      "977         0.537996           0.130319         -0.545568        0.071424   \n",
      "978         0.190190          -0.081618         -0.383741       -0.187412   \n",
      "979         0.472638          -0.105942         -0.633450       -0.093709   \n",
      "980         0.409994          -0.031458         -0.714014        0.072167   \n",
      "981         0.567677           0.051705         -0.719685        0.199224   \n",
      "982         0.731626           0.133269         -0.743161        0.343584   \n",
      "983         0.432590           0.089849         -0.677611        0.074597   \n",
      "984         0.621128           0.171761         -0.623350        0.240572   \n",
      "985         0.051245          -0.171010         -0.605449       -0.035232   \n",
      "986         0.385419          -0.141102         -0.614903       -0.030212   \n",
      "987         0.609991           0.022016         -0.635728        0.063404   \n",
      "988         0.352764          -0.171223         -0.627333        0.021598   \n",
      "989         0.057996          -0.324213         -0.501420       -0.352285   \n",
      "990         0.483301           0.045010         -0.752553        0.168002   \n",
      "991         0.688653          -0.056962         -0.623411        0.065710   \n",
      "992         0.601533          -0.108383         -0.874261       -0.010442   \n",
      "993         0.226279          -0.276580         -0.586318       -0.223926   \n",
      "994         0.554776          -0.062583         -0.822995        0.078600   \n",
      "995         0.206972          -0.018906         -0.513966       -0.029629   \n",
      "996         0.307290          -0.081697         -0.593842       -0.075216   \n",
      "997         0.180859          -0.324654         -0.717274       -0.340572   \n",
      "998         0.024833          -0.321922         -0.684700       -0.505952   \n",
      "999        -0.237185          -0.421597         -0.699959       -0.490025   \n",
      "\n",
      "     stdSpecRollof  ...    stdMFCC_9  meanMFCC_10  stdMFCC_10  meanMFCC_11  \\\n",
      "0        -0.455356  ...    -0.114378    -0.174782   -0.716931     0.379757   \n",
      "1         0.018836  ...     0.103460     0.112254   -0.611377     0.466185   \n",
      "2        -0.486896  ...    -0.166338    -0.354216   -0.664704     0.180107   \n",
      "3        -0.550906  ...    -0.747465     0.293044   -0.776384     0.104992   \n",
      "4        -0.129946  ...     0.135571    -0.436034   -0.672466    -0.180337   \n",
      "5        -0.418621  ...    -0.378960    -0.315085   -0.882093    -0.188148   \n",
      "6        -0.208222  ...     0.466579    -0.221649   -0.537327    -0.038557   \n",
      "7        -0.541015  ...     0.453486    -0.074035   -0.514383    -0.317226   \n",
      "8        -0.285884  ...    -0.619759    -0.051751   -0.816343     0.272849   \n",
      "9        -0.328090  ...    -0.195343    -0.217760   -0.607565     0.222863   \n",
      "10       -0.546017  ...    -0.431226    -0.069724   -0.700558     0.046792   \n",
      "11       -0.009043  ...     0.147651     0.032657   -0.633765    -0.135385   \n",
      "12       -0.489684  ...    -0.239896    -0.057149   -0.525298     0.034569   \n",
      "13       -0.374130  ...    -0.063006    -0.100141   -0.627071    -0.019676   \n",
      "14       -0.692979  ...    -0.588653     0.267003   -0.818443    -0.091558   \n",
      "15       -0.643020  ...    -0.209604     0.151862   -0.621547     0.189156   \n",
      "16       -0.465413  ...    -0.322814     0.292189   -0.613042     0.244264   \n",
      "17       -0.403780  ...    -0.063802     0.332854   -0.659887    -0.204764   \n",
      "18       -0.341606  ...    -0.371761     0.026312   -0.759028     0.072964   \n",
      "19       -0.492952  ...    -0.463882     0.001024   -0.600291    -0.070848   \n",
      "20       -0.503423  ...    -0.220791     0.034282   -0.667479     0.209686   \n",
      "21       -0.345820  ...    -0.197189     0.336982   -0.662964     0.004156   \n",
      "22       -0.530239  ...    -0.561237     0.329355   -0.835411     0.008037   \n",
      "23       -0.614514  ...    -0.356072    -0.053306   -0.620444    -0.457903   \n",
      "24       -0.580871  ...    -0.340417     0.540196   -0.702374    -0.225666   \n",
      "25       -0.532609  ...     0.289831    -0.007394   -0.535870    -0.135114   \n",
      "26       -0.367250  ...    -0.331984     0.231168   -0.756615    -0.425886   \n",
      "27       -0.625302  ...    -0.192596    -0.123529   -0.587495    -0.126107   \n",
      "28       -0.797295  ...     0.019756     0.224773   -0.709170    -0.198423   \n",
      "29        0.282600  ...    -0.045036    -0.897924   -0.414343    -0.464183   \n",
      "..             ...  ...          ...          ...         ...          ...   \n",
      "970      -0.394004  ...    -0.107441    -0.549229   -0.585375     0.064557   \n",
      "971      -0.490469  ...    -0.376069     0.037681   -0.719922     0.562200   \n",
      "972      -0.060766  ...    -0.474234    -0.195510   -0.828007     0.490681   \n",
      "973      -0.436398  ...    -0.351486    -0.280863   -0.828502     0.555623   \n",
      "974      -0.485343  ...    -0.524821    -0.115406   -0.748900     0.550986   \n",
      "975      -0.164942  ...    -0.262383    -0.035548   -0.697900     0.435335   \n",
      "976      -0.146024  ...    -0.312404    -0.016098   -0.755862     0.397851   \n",
      "977      -0.206064  ...    -0.303503    -0.120344   -0.785428     0.636822   \n",
      "978      -0.014643  ...    -0.284874    -0.017499   -0.794517     0.332960   \n",
      "979      -0.403855  ...    -0.577339    -0.358293   -0.817566     0.524941   \n",
      "980      -0.527259  ...    -0.448480    -0.640139   -0.686220     0.455662   \n",
      "981      -0.493731  ...     0.016844    -0.580130   -0.737830     0.369012   \n",
      "982      -0.560824  ...    -0.430714    -0.734948   -0.669860     0.752921   \n",
      "983      -0.459898  ...    -0.509067    -0.503350   -0.787504     0.548004   \n",
      "984      -0.277826  ...    -0.358704    -0.541455   -0.747575     0.728869   \n",
      "985      -0.325519  ...    -0.106370    -0.693498   -0.563106    -0.097199   \n",
      "986      -0.365019  ...    -0.317941    -0.258721   -0.762151     0.546191   \n",
      "987      -0.392322  ...    -0.425374    -0.313940   -0.855661     0.462559   \n",
      "988      -0.525686  ...    -0.683181    -0.291368   -0.789332     0.479436   \n",
      "989      -0.358402  ...    -0.308162    -0.262982   -0.669792     0.245863   \n",
      "990      -0.529436  ...     0.137986    -0.435909   -0.595443     0.392698   \n",
      "991      -0.370868  ...    -0.577881    -0.544496   -0.852900     0.635144   \n",
      "992      -0.695676  ...    -0.676980    -0.584438   -0.908852     0.453947   \n",
      "993      -0.468605  ...    -0.366548    -0.270289   -0.880569     0.299753   \n",
      "994      -0.705722  ...    -0.833930    -0.527599   -0.888524     0.273778   \n",
      "995      -0.221340  ...    -0.308536    -0.381953   -0.871115     0.558016   \n",
      "996      -0.398426  ...    -0.601214    -0.193430   -0.882889     0.734965   \n",
      "997      -0.658470  ...    -0.145908    -0.244727   -0.855362     0.308482   \n",
      "998      -0.575512  ...    -0.796831    -0.392042   -0.822401     0.114270   \n",
      "999      -0.697710  ...    -0.496968     0.308665   -0.732575     0.358304   \n",
      "\n",
      "     stdMFCC_11  meanMFCC_12  stdMFCC_12  meanMFCC_13  stdMFCC_13  Genre  \n",
      "0     -0.826331     0.065192   -0.802478     0.243325   -0.609704      B  \n",
      "1     -0.771335     0.270596   -0.480038     0.286445   -0.546068      B  \n",
      "2     -0.751552    -0.094467   -0.647450    -0.182938   -0.530300      B  \n",
      "3     -0.925492     0.202960   -0.847504    -0.116092   -0.708645      B  \n",
      "4     -0.717212     0.166494   -0.222193    -0.367990   -0.278997      B  \n",
      "5     -0.702223    -0.221397   -0.605031    -0.331229   -0.722445      B  \n",
      "6     -0.680015    -0.010024   -0.511683    -0.536335   -0.459306      B  \n",
      "7     -0.727725     0.185043   -0.172267    -0.407589   -0.575753      B  \n",
      "8     -0.778596    -0.352290   -0.634300     0.163684   -0.686418      B  \n",
      "9     -0.649688     0.174272   -0.670705    -0.236123   -0.317230      B  \n",
      "10    -0.867956     0.140130   -0.539602    -0.060377   -0.611196      B  \n",
      "11    -0.750169     0.061922   -0.535800    -0.323829   -0.593084      B  \n",
      "12    -0.539605     0.568822   -0.289630     0.076062   -0.826071      B  \n",
      "13    -0.796615     0.090900   -0.639190     0.331945   -0.385071      B  \n",
      "14    -0.842077     0.520171   -0.589793     0.209341   -0.505226      B  \n",
      "15    -0.862823     0.288036   -0.564748     0.270230   -0.571739      B  \n",
      "16    -0.711976     0.156750   -0.420484     0.364584   -0.487163      B  \n",
      "17    -0.616611     0.432353   -0.487617     0.112655   -0.533771      B  \n",
      "18    -0.850625     0.024062   -0.380754     0.268924   -0.442412      B  \n",
      "19    -0.800388     0.266815   -0.492446     0.256706   -0.241231      B  \n",
      "20    -0.619019     0.114278   -0.484823     0.364411   -0.484980      B  \n",
      "21    -0.792368     0.256097   -0.505951     0.270730   -0.495135      B  \n",
      "22    -0.802837     0.277576   -0.730778     0.283397   -0.598909      B  \n",
      "23    -0.756406    -0.481256   -0.390723     0.086615   -0.758951      B  \n",
      "24    -0.725359     0.178354   -0.539840    -0.077070   -0.446056      B  \n",
      "25    -0.782732     0.053344   -0.432953     0.252589   -0.595692      B  \n",
      "26    -0.841332     0.275134   -0.662305     0.103124   -0.758332      B  \n",
      "27    -0.820708     0.301755   -0.518594     0.084196   -0.560175      B  \n",
      "28    -0.683554     0.213067   -0.569776    -0.275126   -0.571844      B  \n",
      "29    -0.641314     0.074010   -0.445134     0.041876   -0.167069      B  \n",
      "..          ...          ...         ...          ...         ...    ...  \n",
      "970   -0.714572    -0.075909   -0.515534    -0.085678   -0.408131     Ro  \n",
      "971   -0.839051    -0.129962   -0.754500     0.312337   -0.674720     Ro  \n",
      "972   -0.928833    -0.164600   -0.714614     0.304409   -0.728489     Ro  \n",
      "973   -0.791093    -0.271208   -0.704058     0.207513   -0.766195     Ro  \n",
      "974   -0.931442    -0.064584   -0.569182     0.449262   -0.831342     Ro  \n",
      "975   -0.734375    -0.205789   -0.594374     0.154993   -0.501031     Ro  \n",
      "976   -0.621015    -0.131951   -0.159594     0.193912   -0.568835     Ro  \n",
      "977   -0.842921    -0.254128   -0.705617     0.104664   -0.609046     Ro  \n",
      "978   -0.749412    -0.104939   -0.673698     0.182314   -0.535093     Ro  \n",
      "979   -0.848614    -0.204448   -0.745097     0.045398   -0.658151     Ro  \n",
      "980   -0.840614    -0.015596   -0.548913     0.370710   -0.479321     Ro  \n",
      "981   -0.725915    -0.176776   -0.508786     0.197330   -0.612884     Ro  \n",
      "982   -0.742611    -0.206412   -0.755296     0.114959   -0.615497     Ro  \n",
      "983   -0.864770    -0.319198   -0.801633     0.160709   -0.574799     Ro  \n",
      "984   -0.835046    -0.298301   -0.612286     0.252045   -0.720654     Ro  \n",
      "985   -0.693887    -0.132242   -0.556522    -0.084683   -0.295285     Ro  \n",
      "986   -0.901757    -0.094073   -0.728016     0.471678   -0.699886     Ro  \n",
      "987   -0.858974    -0.127128   -0.761928     0.132973   -0.827391     Ro  \n",
      "988   -0.870775    -0.216644   -0.576341     0.179565   -0.843561     Ro  \n",
      "989   -0.764559     0.056297   -0.697776    -0.159370   -0.610698     Ro  \n",
      "990   -0.719205    -0.120092   -0.434193     0.255466   -0.503970     Ro  \n",
      "991   -0.891680    -0.223341   -0.854589     0.247087   -0.880366     Ro  \n",
      "992   -0.896750    -0.314893   -0.799738     0.072906   -0.858122     Ro  \n",
      "993   -0.812755    -0.400716   -0.675936     0.095526   -0.638156     Ro  \n",
      "994   -0.883735    -0.593725   -0.852155     0.075098   -0.821792     Ro  \n",
      "995   -0.780482    -0.208038   -0.623201     0.321580   -0.321802     Ro  \n",
      "996   -0.863405    -0.381499   -0.803583     0.119986   -0.799035     Ro  \n",
      "997   -0.788438    -0.440309   -0.636614    -0.026302   -0.824880     Ro  \n",
      "998   -0.737215    -0.151881   -0.677889    -0.123690   -0.555484     Ro  \n",
      "999   -0.827082    -0.395552   -0.630406     0.164984   -0.435769     Ro  \n",
      "\n",
      "[1000 rows x 37 columns]\n"
     ]
    }
   ],
   "source": [
    "y_data=create_label_column()\n",
    "\n",
    "Feature_Names=['meanZCR','stdZCR','meanSpecCentroid','stdSpecCentroid','meanSpecContrast','stdSpecContrast',\n",
    "            'meanSpecBandwidth','stdSpecBandwidth','meanSpecRollof','stdSpecRollof',\n",
    "          'meanMFCC_1','stdMFCC_1','meanMFCC_2','stdMFCC_2','meanMFCC_3','stdMFCC_3',\n",
    "           'meanMFCC_4','stdMFCC_4','meanMFCC_5','stdMFCC_5','meanMFCC_6','stdMFCC_6',\n",
    "             'meanMFCC_7','stdMFCC_7','meanMFCC_8','stdMFCC_8','meanMFCC_9','stdMFCC_9',\n",
    "            'meanMFCC_10','stdMFCC_10','meanMFCC_11','stdMFCC_11','meanMFCC_12','stdMFCC_12',\n",
    "             'meanMFCC_13','stdMFCC_13'\n",
    "             ]\n",
    "\n",
    "data_set=pandas.DataFrame(feature_table,columns=Feature_Names)\n",
    "data_set['Genre']=y_data\n",
    "\n",
    "print(data_set)\n"
   ]
  },
  {
   "cell_type": "markdown",
   "metadata": {},
   "source": [
    "* Son olarak, elde edilen veri seti **data_set** ismiyle .csv formatında proje klasörüne kaydedilmiştir.\n",
    "* Bu işlemde pandas kütüphanesinin to_csv fonksiyonundan yararlanılmıştır."
   ]
  },
  {
   "cell_type": "code",
   "execution_count": 41,
   "metadata": {
    "collapsed": false
   },
   "outputs": [],
   "source": [
    "data_set.to_csv(\"data_set.csv\",index=False)"
   ]
  },
  {
   "cell_type": "code",
   "execution_count": null,
   "metadata": {
    "collapsed": true
   },
   "outputs": [],
   "source": []
  }
 ],
 "metadata": {
  "kernelspec": {
   "display_name": "Python 3",
   "language": "python",
   "name": "python3"
  },
  "language_info": {
   "codemirror_mode": {
    "name": "ipython",
    "version": 3
   },
   "file_extension": ".py",
   "mimetype": "text/x-python",
   "name": "python",
   "nbconvert_exporter": "python",
   "pygments_lexer": "ipython3",
   "version": "3.5.2"
  }
 },
 "nbformat": 4,
 "nbformat_minor": 1
}
