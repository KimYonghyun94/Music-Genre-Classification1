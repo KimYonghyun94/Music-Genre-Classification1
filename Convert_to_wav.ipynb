{
 "cells": [
  {
   "cell_type": "code",
   "execution_count": 11,
   "metadata": {
    "collapsed": true
   },
   "outputs": [],
   "source": [
    "import os\n",
    "from pydub import AudioSegment",
    "import config"
   ]
  },
  {
   "cell_type": "code",
   "execution_count": 12,
   "metadata": {
    "collapsed": true
   },
   "outputs": [],
   "source": [
    "DATASET_DIRECTORY = config.ConvertWav.CONVERT_DIRECTORY",
    "OUTPUT_FOLDER_NAME = config.ConvertWav.OUTPUT_FOLDER_NAME",
    "WAV_DATASET_DIRECTORY=\"./\"+OUTPUT_FOLDER_NAME+\"/\""
   ]
  },
  {
   "cell_type": "code",
   "execution_count": 13,
   "metadata": {
    "collapsed": false
   },
   "outputs": [
    {
     "name": "stdout",
     "output_type": "stream",
     "text": [
      "DONE!\n"
     ]
    }
   ],
   "source": [
    "try:\n",
    "    os.mkdir(OUTPUT_FOLDER_NAME)\n",
    "except:\n",
    "    pass\n",
    "for eachdir in os.listdir(DATASET_DIRECTORY):\n",
    "    try:\n",
    "        os.mkdir(WAV_DATASET_DIRECTORY+eachdir)\n",
    "    except:\n",
    "        pass\n",
    "    for eachfile in os.listdir(DATASET_DIRECTORY+eachdir):\n",
    "        #print INIT_DIR+eachdir+\"/\"+eachfile\n",
    "        #print eachfile\n",
    "        song = AudioSegment.from_file(DATASET_DIRECTORY+eachdir+\"/\"+eachfile,\"au\")\n",
    "        song.export(WAV_DATASET_DIRECTORY+eachdir+\"/\"+eachfile[:-2]+\"wav\",format=\"wav\")\n",
    "        \n",
    "print(\"DONE!\")"
   ]
  },
  {
   "cell_type": "code",
   "execution_count": null,
   "metadata": {
    "collapsed": true
   },
   "outputs": [],
   "source": []
  }
 ],
 "metadata": {
  "kernelspec": {
   "display_name": "Python 3",
   "language": "python",
   "name": "python3"
  },
  "language_info": {
   "codemirror_mode": {
    "name": "ipython",
    "version": 3
   },
   "file_extension": ".py",
   "mimetype": "text/x-python",
   "name": "python",
   "nbconvert_exporter": "python",
   "pygments_lexer": "ipython3",
   "version": "3.5.2"
  }
 },
 "nbformat": 4,
 "nbformat_minor": 1
}
